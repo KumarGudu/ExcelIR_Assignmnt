{
 "cells": [
  {
   "cell_type": "code",
   "execution_count": 1,
   "id": "8185a778",
   "metadata": {},
   "outputs": [],
   "source": [
    "import pandas as pd\n",
    "import numpy as np\n",
    "from scipy import stats\n",
    "import matplotlib.pyplot as plt\n",
    "import seaborn as sns\n",
    "import warnings\n",
    "warnings.filterwarnings('ignore')"
   ]
  },
  {
   "cell_type": "markdown",
   "id": "80f780ac",
   "metadata": {},
   "source": [
    "- SET1"
   ]
  },
  {
   "cell_type": "code",
   "execution_count": 2,
   "id": "ab7c613d",
   "metadata": {},
   "outputs": [],
   "source": [
    "#Set1\n",
    "#Q1\n",
    "#Plotting the given data into dataframe\n",
    "x={'company name':['Allied Signal',\n",
    "'Bankers Trust',\n",
    "'General Mills',\n",
    "'ITT Industries',\n",
    "'J.P.Morgan & Co.',\n",
    "'Lehman Brothers',\n",
    "'Marriott',\n",
    "'MCI',\n",
    "'Merrill Lynch',\n",
    "'Microsoft',\n",
    "'Morgan Stanley',\n",
    "'Sun Microsystems',\n",
    "'Travelers',\n",
    "'US Airways',\n",
    "'Warner-Lambert',\n",
    "],'values':[24.23,\n",
    "25.53,\n",
    "25.41,\n",
    "24.14,\n",
    "29.62,\n",
    "28.25,\n",
    "25.81,\n",
    "24.39,\n",
    "40.26,\n",
    "32.95,\n",
    "91.36,\n",
    "25.99,\n",
    "39.42,\n",
    "26.71,\n",
    "35.00,\n",
    "]}"
   ]
  },
  {
   "cell_type": "code",
   "execution_count": 3,
   "id": "142ac206",
   "metadata": {},
   "outputs": [],
   "source": [
    "data=pd.DataFrame(x)"
   ]
  },
  {
   "cell_type": "code",
   "execution_count": 4,
   "id": "af3a3e51",
   "metadata": {},
   "outputs": [
    {
     "data": {
      "text/html": [
       "<div>\n",
       "<style scoped>\n",
       "    .dataframe tbody tr th:only-of-type {\n",
       "        vertical-align: middle;\n",
       "    }\n",
       "\n",
       "    .dataframe tbody tr th {\n",
       "        vertical-align: top;\n",
       "    }\n",
       "\n",
       "    .dataframe thead th {\n",
       "        text-align: right;\n",
       "    }\n",
       "</style>\n",
       "<table border=\"1\" class=\"dataframe\">\n",
       "  <thead>\n",
       "    <tr style=\"text-align: right;\">\n",
       "      <th></th>\n",
       "      <th>company name</th>\n",
       "      <th>values</th>\n",
       "    </tr>\n",
       "  </thead>\n",
       "  <tbody>\n",
       "    <tr>\n",
       "      <th>0</th>\n",
       "      <td>Allied Signal</td>\n",
       "      <td>24.23</td>\n",
       "    </tr>\n",
       "    <tr>\n",
       "      <th>1</th>\n",
       "      <td>Bankers Trust</td>\n",
       "      <td>25.53</td>\n",
       "    </tr>\n",
       "    <tr>\n",
       "      <th>2</th>\n",
       "      <td>General Mills</td>\n",
       "      <td>25.41</td>\n",
       "    </tr>\n",
       "    <tr>\n",
       "      <th>3</th>\n",
       "      <td>ITT Industries</td>\n",
       "      <td>24.14</td>\n",
       "    </tr>\n",
       "    <tr>\n",
       "      <th>4</th>\n",
       "      <td>J.P.Morgan &amp; Co.</td>\n",
       "      <td>29.62</td>\n",
       "    </tr>\n",
       "  </tbody>\n",
       "</table>\n",
       "</div>"
      ],
      "text/plain": [
       "       company name  values\n",
       "0     Allied Signal   24.23\n",
       "1     Bankers Trust   25.53\n",
       "2     General Mills   25.41\n",
       "3    ITT Industries   24.14\n",
       "4  J.P.Morgan & Co.   29.62"
      ]
     },
     "execution_count": 4,
     "metadata": {},
     "output_type": "execute_result"
    }
   ],
   "source": [
    "data.head()"
   ]
  },
  {
   "cell_type": "code",
   "execution_count": 5,
   "id": "0effb9f4",
   "metadata": {},
   "outputs": [
    {
     "data": {
      "text/html": [
       "<div>\n",
       "<style scoped>\n",
       "    .dataframe tbody tr th:only-of-type {\n",
       "        vertical-align: middle;\n",
       "    }\n",
       "\n",
       "    .dataframe tbody tr th {\n",
       "        vertical-align: top;\n",
       "    }\n",
       "\n",
       "    .dataframe thead th {\n",
       "        text-align: right;\n",
       "    }\n",
       "</style>\n",
       "<table border=\"1\" class=\"dataframe\">\n",
       "  <thead>\n",
       "    <tr style=\"text-align: right;\">\n",
       "      <th></th>\n",
       "      <th>values</th>\n",
       "    </tr>\n",
       "  </thead>\n",
       "  <tbody>\n",
       "    <tr>\n",
       "      <th>count</th>\n",
       "      <td>15.000000</td>\n",
       "    </tr>\n",
       "    <tr>\n",
       "      <th>mean</th>\n",
       "      <td>33.271333</td>\n",
       "    </tr>\n",
       "    <tr>\n",
       "      <th>std</th>\n",
       "      <td>16.945401</td>\n",
       "    </tr>\n",
       "    <tr>\n",
       "      <th>min</th>\n",
       "      <td>24.140000</td>\n",
       "    </tr>\n",
       "    <tr>\n",
       "      <th>25%</th>\n",
       "      <td>25.470000</td>\n",
       "    </tr>\n",
       "    <tr>\n",
       "      <th>50%</th>\n",
       "      <td>26.710000</td>\n",
       "    </tr>\n",
       "    <tr>\n",
       "      <th>75%</th>\n",
       "      <td>33.975000</td>\n",
       "    </tr>\n",
       "    <tr>\n",
       "      <th>max</th>\n",
       "      <td>91.360000</td>\n",
       "    </tr>\n",
       "  </tbody>\n",
       "</table>\n",
       "</div>"
      ],
      "text/plain": [
       "          values\n",
       "count  15.000000\n",
       "mean   33.271333\n",
       "std    16.945401\n",
       "min    24.140000\n",
       "25%    25.470000\n",
       "50%    26.710000\n",
       "75%    33.975000\n",
       "max    91.360000"
      ]
     },
     "execution_count": 5,
     "metadata": {},
     "output_type": "execute_result"
    }
   ],
   "source": [
    "data.describe()"
   ]
  },
  {
   "cell_type": "code",
   "execution_count": 6,
   "id": "ad6735bb",
   "metadata": {},
   "outputs": [
    {
     "data": {
      "text/plain": [
       "values    287.146612\n",
       "dtype: float64"
      ]
     },
     "execution_count": 6,
     "metadata": {},
     "output_type": "execute_result"
    }
   ],
   "source": [
    "data.var()"
   ]
  },
  {
   "cell_type": "code",
   "execution_count": 7,
   "id": "6b3925ef",
   "metadata": {},
   "outputs": [
    {
     "data": {
      "text/plain": [
       "array([[<AxesSubplot:title={'center':'values'}>]], dtype=object)"
      ]
     },
     "execution_count": 7,
     "metadata": {},
     "output_type": "execute_result"
    },
    {
     "data": {
      "image/png": "[encoded data removed]",
      "text/plain": [
       "<Figure size 640x480 with 1 Axes>"
      ]
     },
     "metadata": {},
     "output_type": "display_data"
    }
   ],
   "source": [
    "data.hist()"
   ]
  },
  {
   "cell_type": "code",
   "execution_count": 8,
   "id": "7bb7fe20",
   "metadata": {},
   "outputs": [
    {
     "data": {
      "text/plain": [
       "7"
      ]
     },
     "execution_count": 8,
     "metadata": {},
     "output_type": "execute_result"
    }
   ],
   "source": [
    "#Q2\n",
    "#since IQR = UQ - LQ\n",
    "12-5"
   ]
  },
  {
   "cell_type": "code",
   "execution_count": 9,
   "id": "476d175e",
   "metadata": {},
   "outputs": [
    {
     "data": {
      "text/plain": [
       "0.995"
      ]
     },
     "execution_count": 9,
     "metadata": {},
     "output_type": "execute_result"
    }
   ],
   "source": [
    "#Q4\n",
    "#probability of calls getting misdirected\n",
    "1/200\n",
    "#probability of calls not getting misdireted\n",
    "199/200"
   ]
  },
  {
   "cell_type": "code",
   "execution_count": 10,
   "id": "3957218c",
   "metadata": {},
   "outputs": [
    {
     "data": {
      "text/plain": [
       "0.024875"
      ]
     },
     "execution_count": 10,
     "metadata": {},
     "output_type": "execute_result"
    }
   ],
   "source": [
    "#since one in 5 attempts the call reaches the wrong number\n",
    "5*(1/200)*(199/200)"
   ]
  },
  {
   "cell_type": "code",
   "execution_count": 11,
   "id": "204b71a3",
   "metadata": {},
   "outputs": [],
   "source": [
    "#Q5\n",
    "#plotting the given values of monetary of business as dataframe\n",
    "x_bv={'Xvalues':[-2000,\n",
    "-1000,\n",
    "0,\n",
    "1000,\n",
    "2000,\n",
    "3000,\n",
    "],'Pvalues':[0.1,\n",
    "0.1,\n",
    "0.2,\n",
    "0.2,\n",
    "0.3,\n",
    "0.1,\n",
    "]}"
   ]
  },
  {
   "cell_type": "code",
   "execution_count": 12,
   "id": "a96b3324",
   "metadata": {},
   "outputs": [],
   "source": [
    "data_bv=pd.DataFrame(x_bv)"
   ]
  },
  {
   "cell_type": "code",
   "execution_count": 13,
   "id": "6e914d9e",
   "metadata": {},
   "outputs": [
    {
     "data": {
      "text/html": [
       "<div>\n",
       "<style scoped>\n",
       "    .dataframe tbody tr th:only-of-type {\n",
       "        vertical-align: middle;\n",
       "    }\n",
       "\n",
       "    .dataframe tbody tr th {\n",
       "        vertical-align: top;\n",
       "    }\n",
       "\n",
       "    .dataframe thead th {\n",
       "        text-align: right;\n",
       "    }\n",
       "</style>\n",
       "<table border=\"1\" class=\"dataframe\">\n",
       "  <thead>\n",
       "    <tr style=\"text-align: right;\">\n",
       "      <th></th>\n",
       "      <th>Xvalues</th>\n",
       "      <th>Pvalues</th>\n",
       "    </tr>\n",
       "  </thead>\n",
       "  <tbody>\n",
       "    <tr>\n",
       "      <th>0</th>\n",
       "      <td>-2000</td>\n",
       "      <td>0.1</td>\n",
       "    </tr>\n",
       "    <tr>\n",
       "      <th>1</th>\n",
       "      <td>-1000</td>\n",
       "      <td>0.1</td>\n",
       "    </tr>\n",
       "    <tr>\n",
       "      <th>2</th>\n",
       "      <td>0</td>\n",
       "      <td>0.2</td>\n",
       "    </tr>\n",
       "    <tr>\n",
       "      <th>3</th>\n",
       "      <td>1000</td>\n",
       "      <td>0.2</td>\n",
       "    </tr>\n",
       "    <tr>\n",
       "      <th>4</th>\n",
       "      <td>2000</td>\n",
       "      <td>0.3</td>\n",
       "    </tr>\n",
       "    <tr>\n",
       "      <th>5</th>\n",
       "      <td>3000</td>\n",
       "      <td>0.1</td>\n",
       "    </tr>\n",
       "  </tbody>\n",
       "</table>\n",
       "</div>"
      ],
      "text/plain": [
       "   Xvalues  Pvalues\n",
       "0    -2000      0.1\n",
       "1    -1000      0.1\n",
       "2        0      0.2\n",
       "3     1000      0.2\n",
       "4     2000      0.3\n",
       "5     3000      0.1"
      ]
     },
     "execution_count": 13,
     "metadata": {},
     "output_type": "execute_result"
    }
   ],
   "source": [
    "data_bv"
   ]
  },
  {
   "cell_type": "code",
   "execution_count": 14,
   "id": "a665711d",
   "metadata": {},
   "outputs": [
    {
     "data": {
      "text/html": [
       "<div>\n",
       "<style scoped>\n",
       "    .dataframe tbody tr th:only-of-type {\n",
       "        vertical-align: middle;\n",
       "    }\n",
       "\n",
       "    .dataframe tbody tr th {\n",
       "        vertical-align: top;\n",
       "    }\n",
       "\n",
       "    .dataframe thead th {\n",
       "        text-align: right;\n",
       "    }\n",
       "</style>\n",
       "<table border=\"1\" class=\"dataframe\">\n",
       "  <thead>\n",
       "    <tr style=\"text-align: right;\">\n",
       "      <th></th>\n",
       "      <th>Xvalues</th>\n",
       "      <th>Pvalues</th>\n",
       "    </tr>\n",
       "  </thead>\n",
       "  <tbody>\n",
       "    <tr>\n",
       "      <th>count</th>\n",
       "      <td>6.000000</td>\n",
       "      <td>6.000000</td>\n",
       "    </tr>\n",
       "    <tr>\n",
       "      <th>mean</th>\n",
       "      <td>500.000000</td>\n",
       "      <td>0.166667</td>\n",
       "    </tr>\n",
       "    <tr>\n",
       "      <th>std</th>\n",
       "      <td>1870.828693</td>\n",
       "      <td>0.081650</td>\n",
       "    </tr>\n",
       "    <tr>\n",
       "      <th>min</th>\n",
       "      <td>-2000.000000</td>\n",
       "      <td>0.100000</td>\n",
       "    </tr>\n",
       "    <tr>\n",
       "      <th>25%</th>\n",
       "      <td>-750.000000</td>\n",
       "      <td>0.100000</td>\n",
       "    </tr>\n",
       "    <tr>\n",
       "      <th>50%</th>\n",
       "      <td>500.000000</td>\n",
       "      <td>0.150000</td>\n",
       "    </tr>\n",
       "    <tr>\n",
       "      <th>75%</th>\n",
       "      <td>1750.000000</td>\n",
       "      <td>0.200000</td>\n",
       "    </tr>\n",
       "    <tr>\n",
       "      <th>max</th>\n",
       "      <td>3000.000000</td>\n",
       "      <td>0.300000</td>\n",
       "    </tr>\n",
       "  </tbody>\n",
       "</table>\n",
       "</div>"
      ],
      "text/plain": [
       "           Xvalues   Pvalues\n",
       "count     6.000000  6.000000\n",
       "mean    500.000000  0.166667\n",
       "std    1870.828693  0.081650\n",
       "min   -2000.000000  0.100000\n",
       "25%    -750.000000  0.100000\n",
       "50%     500.000000  0.150000\n",
       "75%    1750.000000  0.200000\n",
       "max    3000.000000  0.300000"
      ]
     },
     "execution_count": 14,
     "metadata": {},
     "output_type": "execute_result"
    }
   ],
   "source": [
    "data_bv.describe()"
   ]
  },
  {
   "cell_type": "code",
   "execution_count": 15,
   "id": "d35cb36b",
   "metadata": {},
   "outputs": [
    {
     "data": {
      "text/plain": [
       "0.7999999999999999"
      ]
     },
     "execution_count": 15,
     "metadata": {},
     "output_type": "execute_result"
    }
   ],
   "source": [
    "#probability of sucess of this venture is p>0\n",
    "0.2+0.2+0.3+0.1"
   ]
  },
  {
   "cell_type": "code",
   "execution_count": 16,
   "id": "1bb73080",
   "metadata": {},
   "outputs": [
    {
     "data": {
      "text/plain": [
       "800.0"
      ]
     },
     "execution_count": 16,
     "metadata": {},
     "output_type": "execute_result"
    }
   ],
   "source": [
    "#computing longterm average income sum(X)*p(x)\n",
    "(-2000*0.1)+(-1000*0.1)+(0*0.2)+(1000*0.2)+(2000*0.3)+(3000*0.1)"
   ]
  },
  {
   "cell_type": "code",
   "execution_count": 17,
   "id": "9550c0c0",
   "metadata": {},
   "outputs": [
    {
     "data": {
      "text/plain": [
       "2800000"
      ]
     },
     "execution_count": 17,
     "metadata": {},
     "output_type": "execute_result"
    }
   ],
   "source": [
    "#computing the risk factor by variance.\n",
    "(-2000*-200)+(-1000*-100)+(0*0)+(1000*200)+(2000*600)+(3000*300)"
   ]
  },
  {
   "cell_type": "code",
   "execution_count": 18,
   "id": "73297d8d",
   "metadata": {},
   "outputs": [
    {
     "data": {
      "text/plain": [
       "640000"
      ]
     },
     "execution_count": 18,
     "metadata": {},
     "output_type": "execute_result"
    }
   ],
   "source": [
    "#square of longterm average income\n",
    "800*800"
   ]
  },
  {
   "cell_type": "code",
   "execution_count": 19,
   "id": "a3352c8e",
   "metadata": {},
   "outputs": [
    {
     "data": {
      "text/plain": [
       "2160000"
      ]
     },
     "execution_count": 19,
     "metadata": {},
     "output_type": "execute_result"
    }
   ],
   "source": [
    "#varx=\n",
    "2800000-640000"
   ]
  },
  {
   "cell_type": "code",
   "execution_count": 20,
   "id": "6d9efb29",
   "metadata": {},
   "outputs": [
    {
     "data": {
      "text/plain": [
       "1469.6938456699068"
      ]
     },
     "execution_count": 20,
     "metadata": {},
     "output_type": "execute_result"
    }
   ],
   "source": [
    "#standard deviation is\n",
    "np.sqrt(2160000)"
   ]
  },
  {
   "cell_type": "markdown",
   "id": "5f975502",
   "metadata": {},
   "source": [
    "- SET2"
   ]
  },
  {
   "cell_type": "code",
   "execution_count": 21,
   "id": "44fee1c7",
   "metadata": {},
   "outputs": [
    {
     "data": {
      "text/plain": [
       "0.625"
      ]
     },
     "execution_count": 21,
     "metadata": {},
     "output_type": "execute_result"
    }
   ],
   "source": [
    "\n",
    "#Q1\n",
    "#Since the worl will begin after 10 min the taget time also decreaes to 50 min\n",
    "#Convert 50 to Z score i.e. Z=(x-mean)/std\n",
    "(50-45)/8"
   ]
  },
  {
   "cell_type": "code",
   "execution_count": 22,
   "id": "e5e139a0",
   "metadata": {},
   "outputs": [
    {
     "data": {
      "text/plain": [
       "26.763000000000005"
      ]
     },
     "execution_count": 22,
     "metadata": {},
     "output_type": "execute_result"
    }
   ],
   "source": [
    "# The probability in Z table for 0.625 is 0.73237\n",
    "#probability of the service manager not meeting the commitment is \n",
    "100-73.237"
   ]
  },
  {
   "cell_type": "code",
   "execution_count": 23,
   "id": "d0ce2644",
   "metadata": {},
   "outputs": [],
   "source": [
    "#The precentage is 26.763 so the probability is 0.2676"
   ]
  },
  {
   "cell_type": "code",
   "execution_count": 24,
   "id": "23bd1b87",
   "metadata": {},
   "outputs": [
    {
     "data": {
      "text/plain": [
       "1.0"
      ]
     },
     "execution_count": 24,
     "metadata": {},
     "output_type": "execute_result"
    }
   ],
   "source": [
    "#Q2\n",
    "#A.\n",
    "#since x>44 we have to calculate z score for 44\n",
    "(44-38)/6"
   ]
  },
  {
   "cell_type": "code",
   "execution_count": 25,
   "id": "2e42f209",
   "metadata": {},
   "outputs": [
    {
     "data": {
      "text/plain": [
       "15.870000000000005"
      ]
     },
     "execution_count": 25,
     "metadata": {},
     "output_type": "execute_result"
    }
   ],
   "source": [
    "# the probability in z table for 1 is 0.84134\n",
    "#The probability employees are order older than 44 than between 38 and 44\n",
    "100-84.13"
   ]
  },
  {
   "cell_type": "code",
   "execution_count": 26,
   "id": "a30cd491",
   "metadata": {},
   "outputs": [
    {
     "data": {
      "text/plain": [
       "0.0"
      ]
     },
     "execution_count": 26,
     "metadata": {},
     "output_type": "execute_result"
    }
   ],
   "source": [
    "#x<=38 we have to calculate for z score for 38\n",
    "(38-38)/6"
   ]
  },
  {
   "cell_type": "code",
   "execution_count": 27,
   "id": "90f72332",
   "metadata": {},
   "outputs": [
    {
     "data": {
      "text/plain": [
       "34.129999999999995"
      ]
     },
     "execution_count": 27,
     "metadata": {},
     "output_type": "execute_result"
    }
   ],
   "source": [
    "# the probability in z table for 0 is 50%\n",
    "# the people between the age 38 & 44 is \n",
    "84.13-50"
   ]
  },
  {
   "cell_type": "code",
   "execution_count": 28,
   "id": "e050d41f",
   "metadata": {},
   "outputs": [
    {
     "data": {
      "text/plain": [
       "-1.3333333333333333"
      ]
     },
     "execution_count": 28,
     "metadata": {},
     "output_type": "execute_result"
    }
   ],
   "source": [
    "#x<30 we have calculate the Z score for 30\n",
    "(30-38)/6"
   ]
  },
  {
   "cell_type": "code",
   "execution_count": 29,
   "id": "e0460644",
   "metadata": {},
   "outputs": [],
   "source": [
    "# the probability in z table for -1.33 is 0.9176\n",
    "# the probability is 9.176"
   ]
  },
  {
   "cell_type": "code",
   "execution_count": 30,
   "id": "2a288b5c",
   "metadata": {},
   "outputs": [
    {
     "data": {
      "text/plain": [
       "36.68"
      ]
     },
     "execution_count": 30,
     "metadata": {},
     "output_type": "execute_result"
    }
   ],
   "source": [
    "# training program for employees under the age of 30 at center would be expected to attract about 36 emploees\n",
    "400*(9.17/100)"
   ]
  },
  {
   "cell_type": "code",
   "execution_count": 31,
   "id": "888b4e32",
   "metadata": {},
   "outputs": [
    {
     "data": {
      "text/plain": [
       "2.5758293035489004"
      ]
     },
     "execution_count": 31,
     "metadata": {},
     "output_type": "execute_result"
    }
   ],
   "source": [
    "#Q4\n",
    "#calculating the Z score for 0.995\n",
    "stats.norm.ppf(0.995)"
   ]
  },
  {
   "cell_type": "code",
   "execution_count": 32,
   "id": "bf8ec741",
   "metadata": {},
   "outputs": [
    {
     "data": {
      "text/plain": [
       "-2.575829303548901"
      ]
     },
     "execution_count": 32,
     "metadata": {},
     "output_type": "execute_result"
    }
   ],
   "source": [
    "#calculating the z score for 0.005\n",
    "stats.norm.ppf(0.005)"
   ]
  },
  {
   "cell_type": "code",
   "execution_count": 33,
   "id": "9788c862",
   "metadata": {},
   "outputs": [
    {
     "data": {
      "text/plain": [
       "48.5"
      ]
     },
     "execution_count": 33,
     "metadata": {},
     "output_type": "execute_result"
    }
   ],
   "source": [
    "#calculating the intervals for the value a and b\n",
    "#value for a\n",
    "-(20*2.575)+100"
   ]
  },
  {
   "cell_type": "code",
   "execution_count": 34,
   "id": "62781dc8",
   "metadata": {},
   "outputs": [
    {
     "data": {
      "text/plain": [
       "151.5"
      ]
     },
     "execution_count": 34,
     "metadata": {},
     "output_type": "execute_result"
    }
   ],
   "source": [
    "#value for b\n",
    "(20*2.575)+100"
   ]
  },
  {
   "cell_type": "code",
   "execution_count": 35,
   "id": "a7e7d5ec",
   "metadata": {},
   "outputs": [
    {
     "data": {
      "text/plain": [
       "540"
      ]
     },
     "execution_count": 35,
     "metadata": {},
     "output_type": "execute_result"
    }
   ],
   "source": [
    "#Q5\n",
    "#A\n",
    "# Addition of mean profits from two different division and multiplying with 45 as 1$ = 45Rs\n",
    "(7+5)*45"
   ]
  },
  {
   "cell_type": "code",
   "execution_count": 36,
   "id": "80a94422",
   "metadata": {},
   "outputs": [
    {
     "data": {
      "text/plain": [
       "225.0"
      ]
     },
     "execution_count": 36,
     "metadata": {},
     "output_type": "execute_result"
    }
   ],
   "source": [
    "#addition of variance of profits\n",
    "np.sqrt(9+16)*45"
   ]
  },
  {
   "cell_type": "code",
   "execution_count": 37,
   "id": "f60b8eb6",
   "metadata": {},
   "outputs": [
    {
     "data": {
      "text/plain": [
       "(99.00810347848784, 980.9918965215122)"
      ]
     },
     "execution_count": 37,
     "metadata": {},
     "output_type": "execute_result"
    }
   ],
   "source": [
    "#calculating total annual profits at 95% probability\n",
    "stats.norm.interval(0.95,540,225)"
   ]
  },
  {
   "cell_type": "code",
   "execution_count": 38,
   "id": "b22bec7e",
   "metadata": {},
   "outputs": [
    {
     "data": {
      "text/plain": [
       "-1.6448536269514729"
      ]
     },
     "execution_count": 38,
     "metadata": {},
     "output_type": "execute_result"
    }
   ],
   "source": [
    "#B5th precentile of the profit\n",
    "stats.norm.ppf(0.05)\n"
   ]
  },
  {
   "cell_type": "code",
   "execution_count": 39,
   "id": "103ed4d1",
   "metadata": {},
   "outputs": [
    {
     "data": {
      "text/plain": [
       "170.10000000000002"
      ]
     },
     "execution_count": 39,
     "metadata": {},
     "output_type": "execute_result"
    }
   ],
   "source": [
    "540+(-1.644*225)"
   ]
  },
  {
   "cell_type": "code",
   "execution_count": 40,
   "id": "0bb4b218",
   "metadata": {},
   "outputs": [
    {
     "data": {
      "text/plain": [
       "0.0477903522728147"
      ]
     },
     "execution_count": 40,
     "metadata": {},
     "output_type": "execute_result"
    }
   ],
   "source": [
    "#C\n",
    "#making loss 1\n",
    "stats.norm.cdf(0,5,3)"
   ]
  },
  {
   "cell_type": "code",
   "execution_count": 41,
   "id": "0e8e3383",
   "metadata": {},
   "outputs": [
    {
     "data": {
      "text/plain": [
       "0.040059156863817086"
      ]
     },
     "execution_count": 41,
     "metadata": {},
     "output_type": "execute_result"
    }
   ],
   "source": [
    "#making loss 2\n",
    "stats.norm.cdf(0,7,4)"
   ]
  },
  {
   "cell_type": "markdown",
   "id": "7556c4f6",
   "metadata": {},
   "source": [
    "- SET3"
   ]
  },
  {
   "cell_type": "code",
   "execution_count": 42,
   "id": "a225a277",
   "metadata": {},
   "outputs": [
    {
     "data": {
      "text/plain": [
       "0.025"
      ]
     },
     "execution_count": 42,
     "metadata": {},
     "output_type": "execute_result"
    }
   ],
   "source": [
    "#Q2\n",
    "# calculate the population\n",
    "225/9000"
   ]
  },
  {
   "cell_type": "code",
   "execution_count": 43,
   "id": "835f22de",
   "metadata": {},
   "outputs": [
    {
     "data": {
      "text/plain": [
       "0.046"
      ]
     },
     "execution_count": 43,
     "metadata": {},
     "output_type": "execute_result"
    }
   ],
   "source": [
    "4.6/100"
   ]
  },
  {
   "cell_type": "code",
   "execution_count": 44,
   "id": "981f20d9",
   "metadata": {},
   "outputs": [
    {
     "data": {
      "text/plain": [
       "-0.820782681668124"
      ]
     },
     "execution_count": 44,
     "metadata": {},
     "output_type": "execute_result"
    }
   ],
   "source": [
    "#Q5\n",
    "#one sample  Z test\n",
    "#I\n",
    "#null hypothesis : p>5%\n",
    "#alternative hypothesis:p<5%\n",
    "(0.046-0.05)/(np.sqrt(0.0475/(2000)))"
   ]
  },
  {
   "cell_type": "code",
   "execution_count": 45,
   "id": "a281c0e3",
   "metadata": {},
   "outputs": [
    {
     "data": {
      "text/plain": [
       "(-1.959963984540054, 1.959963984540054)"
      ]
     },
     "execution_count": 45,
     "metadata": {},
     "output_type": "execute_result"
    }
   ],
   "source": [
    "#Q8\n",
    "stats.norm.interval(0.95)"
   ]
  },
  {
   "cell_type": "code",
   "execution_count": 46,
   "id": "b50fe2b9",
   "metadata": {},
   "outputs": [
    {
     "data": {
      "text/plain": [
       "594.1406249999999"
      ]
     },
     "execution_count": 46,
     "metadata": {},
     "output_type": "execute_result"
    }
   ],
   "source": [
    "(1.95)*(1.95)*((0.5)*(0.5))/((0.04)*(0.04))"
   ]
  },
  {
   "cell_type": "code",
   "execution_count": 47,
   "id": "b6f12d32",
   "metadata": {},
   "outputs": [
    {
     "data": {
      "text/plain": [
       "(-2.3263478740408408, 2.3263478740408408)"
      ]
     },
     "execution_count": 47,
     "metadata": {},
     "output_type": "execute_result"
    }
   ],
   "source": [
    "#9\n",
    "#confidence interval at 98%\n",
    "stats.norm.interval(0.98)"
   ]
  },
  {
   "cell_type": "code",
   "execution_count": 48,
   "id": "ad4870b0",
   "metadata": {},
   "outputs": [
    {
     "data": {
      "text/plain": [
       "845.355625"
      ]
     },
     "execution_count": 48,
     "metadata": {},
     "output_type": "execute_result"
    }
   ],
   "source": [
    "(2.326)*(2.326)*((0.5)*(0.5))/((0.04)*(0.04))"
   ]
  },
  {
   "cell_type": "markdown",
   "id": "fb3ee4e1",
   "metadata": {},
   "source": [
    "- SET4"
   ]
  },
  {
   "cell_type": "code",
   "execution_count": 49,
   "id": "a04e53f5",
   "metadata": {},
   "outputs": [
    {
     "data": {
      "text/plain": [
       "-1.25"
      ]
     },
     "execution_count": 49,
     "metadata": {},
     "output_type": "execute_result"
    }
   ],
   "source": [
    "#Q3\n",
    "#the samples are more tha 30 ao we consider it as a normal distriution\n",
    "# so we folloe Z test\n",
    "(45-50)/(40/10)\n",
    "\n"
   ]
  },
  {
   "cell_type": "code",
   "execution_count": 50,
   "id": "4dfccd0d",
   "metadata": {},
   "outputs": [
    {
     "data": {
      "text/plain": [
       "1.25"
      ]
     },
     "execution_count": 50,
     "metadata": {},
     "output_type": "execute_result"
    }
   ],
   "source": [
    "#Z score at mean 55\n",
    "(55-50)/(40/10)"
   ]
  },
  {
   "cell_type": "code",
   "execution_count": 51,
   "id": "ae540b43",
   "metadata": {},
   "outputs": [
    {
     "data": {
      "text/plain": [
       "0.7887004526662893"
      ]
     },
     "execution_count": 51,
     "metadata": {},
     "output_type": "execute_result"
    }
   ],
   "source": [
    "stats.norm.cdf(1.25)-stats.norm.cdf(-1.25)"
   ]
  },
  {
   "cell_type": "code",
   "execution_count": 52,
   "id": "c6fec91f",
   "metadata": {},
   "outputs": [
    {
     "data": {
      "text/plain": [
       "(45.09388751985356, 54.90611248014644)"
      ]
     },
     "execution_count": 52,
     "metadata": {},
     "output_type": "execute_result"
    }
   ],
   "source": [
    "stats.norm.interval(0.78,50,40/10)"
   ]
  },
  {
   "cell_type": "code",
   "execution_count": 53,
   "id": "ab457c8a",
   "metadata": {},
   "outputs": [
    {
     "data": {
      "text/plain": [
       "0.21199999999999997"
      ]
     },
     "execution_count": 53,
     "metadata": {},
     "output_type": "execute_result"
    }
   ],
   "source": [
    "1-0.788"
   ]
  },
  {
   "cell_type": "code",
   "execution_count": 54,
   "id": "937778ab",
   "metadata": {},
   "outputs": [
    {
     "name": "stdout",
     "output_type": "stream",
     "text": [
      "The Auditors would like to maintain the probability of investigation to 5%, they should sample 248.0 transactions if they do not want to change the thresholds of 45 to 55\n",
      "248.3776 247.3776\n"
     ]
    },
    {
     "data": {
      "text/plain": [
       "array([45., 55.])"
      ]
     },
     "execution_count": 54,
     "metadata": {},
     "output_type": "execute_result"
    }
   ],
   "source": [
    "#Q4\n",
    "x_bar = 45\n",
    "s_std = 40\n",
    "mew = 50\n",
    "\n",
    "t = np.round(stats.t.ppf(0.025, df = 249),2)\n",
    "t\n",
    "\n",
    "# t_value = (x_bar - mew)/(sample_std/n**0.5)\n",
    "# t = 45-50 or z = 55-50 z = +/- 5\n",
    "\n",
    "# t = 5/(40/n**0.5)\n",
    "# n = (sample_standard_deviation*tscore)/(sample_mean=population_mean)\n",
    "n = ((s_std*abs(t)) / (5))**2\n",
    "\n",
    "print('The Auditors would like to maintain the probability of investigation to 5%, they should sample',np.round(n,),'transactions if they do not want to change the thresholds of 45 to 55')\n",
    "\n",
    "df= n-1\n",
    "print(n, df)\n",
    "\n",
    "np.round(stats.t.interval(alpha = 0.95, df = df, loc = mew, scale = s_std/np.sqrt(n)),)"
   ]
  },
  {
   "cell_type": "code",
   "execution_count": 55,
   "id": "0ccae744",
   "metadata": {},
   "outputs": [
    {
     "data": {
      "text/plain": [
       "0.6"
      ]
     },
     "execution_count": 55,
     "metadata": {},
     "output_type": "execute_result"
    }
   ],
   "source": [
    "#Q5\n",
    "120/(np.sqrt(40000))"
   ]
  },
  {
   "cell_type": "code",
   "execution_count": null,
   "id": "e50d0872",
   "metadata": {},
   "outputs": [],
   "source": []
  },
  {
   "cell_type": "code",
   "execution_count": null,
   "id": "7c754a13",
   "metadata": {},
   "outputs": [],
   "source": []
  }
 ],
 "metadata": {
  "kernelspec": {
   "display_name": "Python 3 (ipykernel)",
   "language": "python",
   "name": "python3"
  },
  "language_info": {
   "codemirror_mode": {
    "name": "ipython",
    "version": 3
   },
   "file_extension": ".py",
   "mimetype": "text/x-python",
   "name": "python",
   "nbconvert_exporter": "python",
   "pygments_lexer": "ipython3",
   "version": "3.9.13"
  }
 },
 "nbformat": 4,
 "nbformat_minor": 5
}
